{
 "cells": [
  {
   "cell_type": "code",
   "execution_count": 2,
   "metadata": {},
   "outputs": [],
   "source": [
    "import numpy as np\n",
    "import scipy as sp\n",
    "import array_to_latex as a2l\n",
    "import scipy.constants as const\n",
    "import scipy.linalg as lg\n",
    "from matplotlib import pyplot as plt\n",
    "import scipy.integrate as integrate\n",
    "import scipy.sparse as sparse\n",
    "from numpy.linalg import matrix_power\n",
    "import math"
   ]
  },
  {
   "cell_type": "code",
   "execution_count": 3,
   "metadata": {},
   "outputs": [],
   "source": [
    "# Constants\n",
    "\n",
    "w = 18*10**9\n",
    "B_02 = w/(18*const.hbar)\n",
    "T = 2*np.pi/w\n",
    "\n",
    "# Time interval\n",
    "\n",
    "t = np.arange(0,T,10**(-12))"
   ]
  },
  {
   "cell_type": "code",
   "execution_count": 11,
   "metadata": {},
   "outputs": [],
   "source": [
    "# Determine eigenstates of the effective Hamiltonian\n",
    "\n",
    "a=B_02*const.hbar**2\n",
    "b=const.hbar*w\n",
    "\n",
    "H_eff = np.array([[21*a-b*7/2,np.sqrt(7)*a,0,0,0,0,0,0],\n",
    "         [np.sqrt(7)*a,3*a-b*5/2,2*np.sqrt(3)*a,0,0,0,0,0],\n",
    "         [0,2*np.sqrt(3)*a,-9*a-b*3/2,np.sqrt(15)*a,0,0,0,0],\n",
    "         [0,0,np.sqrt(15)*a,-15*a-b*1/2,4*a,0,0,0],\n",
    "         [0,0,0,4*a,-15*a+b*1/2,np.sqrt(15)*a,0,0],\n",
    "         [0,0,0,0,np.sqrt(15)*a,-9*a+b*3/2,2*np.sqrt(3)*a,0],\n",
    "         [0,0,0,0,0,2*np.sqrt(3)*a,3*a+b*5/2,np.sqrt(7)*a],\n",
    "         [0,0,0,0,0,0,np.sqrt(7)*a,21*a+b*7/2]])\n",
    "\n",
    "eig = np.linalg.eig(H_eff)"
   ]
  },
  {
   "cell_type": "code",
   "execution_count": 27,
   "metadata": {},
   "outputs": [
    {
     "name": "stdout",
     "output_type": "stream",
     "text": [
      "\\begin{pmatrix}\n",
      " -4.28\\times 10^{-24} & -4.79\\times 10^{-24} & -3.72\\times 10^{-24} & -2.49\\times 10^{-24} & -6.05\\times 10^{-25} &  1.92\\times 10^{-24} &  5.08\\times 10^{-24} &  8.88\\times 10^{-24}\n",
      "\\end{pmatrix}\n",
      "\\begin{pmatrix}\n",
      "  7.90\\times 10^{-01} & -5.82\\times 10^{-01} &  1.92\\times 10^{-01} &  8.51\\times 10^{-03} & -1.97\\times 10^{-04} & -2.76\\times 10^{-06} &  2.37\\times 10^{-08} &  1.14\\times 10^{-10}\\\\\n",
      "  4.36\\times 10^{-01} &  7.54\\times 10^{-01} &  4.88\\times 10^{-01} &  5.91\\times 10^{-02} & -2.69\\times 10^{-03} & -6.27\\times 10^{-05} &  8.09\\times 10^{-07} &  5.42\\times 10^{-09}\\\\\n",
      " -4.19\\times 10^{-01} & -3.00\\times 10^{-01} &  8.00\\times 10^{-01} &  3.07\\times 10^{-01} & -2.81\\times 10^{-02} & -1.09\\times 10^{-03} &  2.10\\times 10^{-05} &  1.97\\times 10^{-07}\\\\\n",
      "  1.01\\times 10^{-01} &  5.52\\times 10^{-02} & -2.89\\times 10^{-01} &  9.25\\times 10^{-01} & -2.17\\times 10^{-01} & -1.52\\times 10^{-02} &  4.57\\times 10^{-04} &  6.12\\times 10^{-06}\\\\\n",
      " -1.18\\times 10^{-02} & -5.64\\times 10^{-03} &  3.98\\times 10^{-02} & -2.14\\times 10^{-01} & -9.63\\times 10^{-01} & -1.59\\times 10^{-01} &  8.23\\times 10^{-03} &  1.65\\times 10^{-04}\\\\\n",
      "  7.82\\times 10^{-04} &  3.45\\times 10^{-04} & -2.90\\times 10^{-03} &  2.00\\times 10^{-02} &  1.59\\times 10^{-01} & -9.80\\times 10^{-01} &  1.15\\times 10^{-01} &  3.84\\times 10^{-03}\\\\\n",
      " -3.06\\times 10^{-05} & -1.28\\times 10^{-05} &  1.21\\times 10^{-04} & -9.68\\times 10^{-04} & -1.02\\times 10^{-02} &  1.14\\times 10^{-01} &  9.91\\times 10^{-01} &  7.33\\times 10^{-02}\\\\\n",
      "  6.50\\times 10^{-07} &  2.62\\times 10^{-07} & -2.68\\times 10^{-06} &  2.38\\times 10^{-05} &  3.02\\times 10^{-04} & -4.60\\times 10^{-03} & -7.32\\times 10^{-02} &  9.97\\times 10^{-01}\n",
      "\\end{pmatrix}\n"
     ]
    }
   ],
   "source": [
    "# Solve the linear combo\n",
    "\n",
    "eigenvalues = eig[0]\n",
    "eigenvectors = eig[1]\n",
    "\n",
    "init_state = np.array([1,0,0,0,0,0,0,0])\n",
    "weights = np.linalg.solve(eigenvectors,init_state)\n",
    "\n",
    "a2l.to_ltx(eigenvalues, frmt = '{:.2e}', arraytype = 'pmatrix')\n",
    "a2l.to_ltx(eigenvectors, frmt = '{:.2e}', arraytype = 'pmatrix')"
   ]
  },
  {
   "cell_type": "code",
   "execution_count": 13,
   "metadata": {},
   "outputs": [],
   "source": [
    "# Function for time dependent state\n",
    "\n",
    "def state_at_t(t,weights,eigenvectors,eigenvalues):\n",
    "    exp=[0]*8\n",
    "    \n",
    "    for i in range(8):\n",
    "        exp[i] = lg.expm(np.complex(0,-t/const.hbar)*H_eff)\n",
    "    \n",
    "    new_ket = np.zeros(8,dtype=complex)\n",
    "    \n",
    "    for i in range(8):\n",
    "        new_ket += weights[i]*np.matmul(exp[i],eigenvectors[:,i])\n",
    "    \n",
    "    return new_ket"
   ]
  },
  {
   "cell_type": "code",
   "execution_count": 14,
   "metadata": {},
   "outputs": [],
   "source": [
    "# Compute the probability\n",
    "\n",
    "final_state = np.array([0,1,0,0,0,0,0,0],dtype=complex)\n",
    "\n",
    "prob_at_time_t_heff = []\n",
    "\n",
    "for i in range(len(t)):\n",
    "    braket = np.dot(final_state,state_at_t(t[i],weights,eigenvectors,eigenvalues))\n",
    "    prob_at_time_t_heff.append(abs(braket)**2)"
   ]
  },
  {
   "cell_type": "code",
   "execution_count": 15,
   "metadata": {},
   "outputs": [
    {
     "data": {
      "image/png": "[encoded data removed]",
      "text/plain": [
       "<Figure size 720x360 with 1 Axes>"
      ]
     },
     "metadata": {
      "needs_background": "light"
     },
     "output_type": "display_data"
    }
   ],
   "source": [
    "# Plot the effective Hamiltonian probability\n",
    "\n",
    "plt.figure(figsize=(10,5))\n",
    "plt.plot(t,prob_at_time_t_heff)\n",
    "plt.suptitle(r'Probability to find the system in $\\left|7/2,5/2\\right>$ from 0 to T using $H_{eff}$')\n",
    "plt.xlabel('Time/$s$')\n",
    "plt.ylabel('Probability/$\\%$')\n",
    "\n",
    "plt.show()"
   ]
  },
  {
   "cell_type": "code",
   "execution_count": null,
   "metadata": {},
   "outputs": [],
   "source": []
  }
 ],
 "metadata": {
  "kernelspec": {
   "display_name": "Python [conda env:fast] *",
   "language": "python",
   "name": "conda-env-fast-py"
  },
  "language_info": {
   "codemirror_mode": {
    "name": "ipython",
    "version": 3
   },
   "file_extension": ".py",
   "mimetype": "text/x-python",
   "name": "python",
   "nbconvert_exporter": "python",
   "pygments_lexer": "ipython3",
   "version": "3.7.8"
  }
 },
 "nbformat": 4,
 "nbformat_minor": 4
}
